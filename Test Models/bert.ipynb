{
 "cells": [
  {
   "cell_type": "code",
   "execution_count": 5,
   "metadata": {},
   "outputs": [],
   "source": [
    "import torch\n",
    "\n",
    "from googletrans import Translator, LANGUAGES\n",
    "from transformers import BertTokenizer, BertModel"
   ]
  },
  {
   "cell_type": "code",
   "execution_count": 3,
   "metadata": {},
   "outputs": [],
   "source": [
    "tokenizer = BertTokenizer.from_pretrained('bert-base-uncased')\n",
    "model = BertModel.from_pretrained('bert-base-uncased')"
   ]
  },
  {
   "cell_type": "code",
   "execution_count": 4,
   "metadata": {},
   "outputs": [],
   "source": [
    "def bert_understand(text):\n",
    "    inputs = tokenizer(text, return_tensors=\"pt\")\n",
    "    outputs = model(**inputs)\n",
    "    return outputs.last_hidden_state"
   ]
  },
  {
   "cell_type": "code",
   "execution_count": 6,
   "metadata": {},
   "outputs": [],
   "source": [
    "translator = Translator()\n",
    "\n",
    "def translate_to_turkish(text):\n",
    "    translated = translator.translate(text, dest='tr')\n",
    "    return translated.text\n",
    "\n",
    "def translate_to_english(text):\n",
    "    translated = translator.translate(text, dest='en')\n",
    "    return translated.text"
   ]
  },
  {
   "cell_type": "code",
   "execution_count": 11,
   "metadata": {},
   "outputs": [],
   "source": [
    "def generate_response(bert_output, english_query):\n",
    "    # Lowercase the query for easier matching\n",
    "    query = english_query.lower()\n",
    "\n",
    "    # Define some basic keywords and responses\n",
    "    responses = {\n",
    "        \"shipping\": \"Your order will be shipped within 3-5 business days.\",\n",
    "        \"refund\": \"To process a refund, please visit our returns and refunds page.\",\n",
    "        \"cancel order\": \"To cancel an order, please provide your order number.\",\n",
    "        \"payment issue\": \"For payment issues, please contact our billing department.\"\n",
    "    }\n",
    "\n",
    "    # Check for keywords in the query and return the corresponding response\n",
    "    for keyword in responses:\n",
    "        if keyword in query:\n",
    "            return responses[keyword]\n",
    "\n",
    "    # Default response if no keywords are found\n",
    "    return \"I'm not sure how to answer that. Could you provide more details or rephrase your question?\"\n"
   ]
  },
  {
   "cell_type": "code",
   "execution_count": 14,
   "metadata": {},
   "outputs": [],
   "source": [
    "def handle_query(turkish_query):\n",
    "    # Translate the query to English\n",
    "    english_query = translate_to_english(turkish_query)\n",
    "\n",
    "    # Understand the query using BERT\n",
    "    bert_output = bert_understand(english_query)\n",
    "\n",
    "    # Generate an English response\n",
    "    english_response = generate_response(bert_output, english_query)\n",
    "\n",
    "    # Translate the response back to Turkish\n",
    "    turkish_response = translate_to_turkish(english_response)\n",
    "\n",
    "    return turkish_response\n"
   ]
  },
  {
   "cell_type": "code",
   "execution_count": 15,
   "metadata": {},
   "outputs": [
    {
     "name": "stdout",
     "output_type": "stream",
     "text": [
      "Buna nasıl cevap vereceğinden emin değilim.Daha fazla ayrıntı sağlayabilir veya sorunuzu yeniden ifade edebilir misiniz?\n"
     ]
    }
   ],
   "source": [
    "turkish_query = \"Merhaba, siparişimi iptal etmek istiyorum.\"\n",
    "response = handle_query(turkish_query)\n",
    "print(response)\n"
   ]
  }
 ],
 "metadata": {
  "kernelspec": {
   "display_name": "Python 3",
   "language": "python",
   "name": "python3"
  },
  "language_info": {
   "codemirror_mode": {
    "name": "ipython",
    "version": 3
   },
   "file_extension": ".py",
   "mimetype": "text/x-python",
   "name": "python",
   "nbconvert_exporter": "python",
   "pygments_lexer": "ipython3",
   "version": "3.9.6"
  }
 },
 "nbformat": 4,
 "nbformat_minor": 2
}
