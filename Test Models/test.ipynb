{
 "cells": [
  {
   "cell_type": "code",
   "execution_count": 1,
   "metadata": {},
   "outputs": [],
   "source": [
    "import spacy\n",
    "from spacy.lang.tr.stop_words import STOP_WORDS\n",
    "\n",
    "import nltk\n",
    "from nltk.tokenize import PunktSentenceTokenizer"
   ]
  },
  {
   "cell_type": "code",
   "execution_count": 2,
   "metadata": {},
   "outputs": [],
   "source": [
    "from sklearn.feature_extraction.text import CountVectorizer\n",
    "from sklearn.metrics.pairwise import cosine_similarity"
   ]
  },
  {
   "cell_type": "code",
   "execution_count": 3,
   "metadata": {},
   "outputs": [],
   "source": [
    "knowledge = \"\"\"\n",
    "Natural Language Processing (NLP) is a field of artificial intelligence that focuses on the interaction between computers and humans using natural language. It involves the development of algorithms and models to enable machines to understand, interpret, and generate human-like text.\n",
    "\n",
    "NLP tasks include text classification, named entity recognition, sentiment analysis, machine translation, and question answering. Techniques like tokenization, stemming, and lemmatization are commonly used in NLP to process and analyze text.\n",
    "\n",
    "spaCy is a popular Python library for NLP tasks, providing tools for text processing and analysis. It includes various models for part-of-speech tagging, parsing, and more.\n",
    "\n",
    "To build an NLP model, you can use techniques like Bag of Words (BoW) or Word Embeddings. BoW represents text as a vector of word frequencies, while Word Embeddings capture semantic relationships between words.\n",
    "\n",
    "Feel free to ask questions about NLP, spaCy, or any related topics!\n",
    "\"\"\""
   ]
  },
  {
   "cell_type": "code",
   "execution_count": 4,
   "metadata": {},
   "outputs": [],
   "source": [
    "nlp = spacy.load('tr_core_web_sm')\n",
    "\n",
    "# Tokenize and remove stopwords\n",
    "def preprocess_text(text):\n",
    "    doc = nlp(text.lower())\n",
    "    filtered_words = [token.text for token in doc if token.is_alpha and token.text not in STOP_WORDS]\n",
    "    return ' '.join(filtered_words)\n",
    "\n",
    "knowledge_base = preprocess_text(knowledge)"
   ]
  },
  {
   "cell_type": "code",
   "execution_count": 5,
   "metadata": {},
   "outputs": [],
   "source": [
    "# Use NLTK's Punkt tokenizer for sentence tokenization\n",
    "sentence_tokenizer = PunktSentenceTokenizer()\n",
    "sentences = sentence_tokenizer.tokenize(knowledge_base)"
   ]
  },
  {
   "cell_type": "code",
   "execution_count": 6,
   "metadata": {},
   "outputs": [],
   "source": [
    "# Vectorize using Bag of Words (BoW) model\n",
    "vectorizer = CountVectorizer()\n",
    "knowledge_vector = vectorizer.fit_transform([knowledge_base])"
   ]
  },
  {
   "cell_type": "code",
   "execution_count": 7,
   "metadata": {},
   "outputs": [],
   "source": [
    "# Define a function to answer questions\n",
    "def answer_question(question):\n",
    "    # Preprocess and vectorize the question\n",
    "    question = preprocess_text(question)\n",
    "    question_vector = vectorizer.transform([question])\n",
    "\n",
    "    # Calculate cosine similarity between question and knowledge base\n",
    "    similarity = cosine_similarity(question_vector, knowledge_vector)\n",
    "\n",
    "    # Find the most similar sentence in the knowledge base\n",
    "    most_similar_sentence_index = similarity.argmax()\n",
    "    answer = sentences[most_similar_sentence_index]\n",
    "\n",
    "    return answer.strip()"
   ]
  },
  {
   "cell_type": "code",
   "execution_count": 8,
   "metadata": {},
   "outputs": [
    {
     "name": "stdout",
     "output_type": "stream",
     "text": [
      "Question: What is spaCy?\n",
      "Answer: natural language processing nlp field artificial intelligence focuses interaction computers humans natural language involves development algorithms models enable machines understand interpret generate human like text nlp tasks include text classification named entity recognition sentiment analysis machine translation question answering techniques like tokenization stemming lemmatization commonly nlp process analyze text spacy popular python library nlp tasks providing tools text processing analysis includes models speech tagging parsing build nlp model use techniques like bag words bow word embeddings bow represents text vector word frequencies word embeddings capture semantic relationships words feel free ask questions nlp spacy related topics\n",
      "\n",
      "Question: Tell me about NLP tasks.\n",
      "Answer: natural language processing nlp field artificial intelligence focuses interaction computers humans natural language involves development algorithms models enable machines understand interpret generate human like text nlp tasks include text classification named entity recognition sentiment analysis machine translation question answering techniques like tokenization stemming lemmatization commonly nlp process analyze text spacy popular python library nlp tasks providing tools text processing analysis includes models speech tagging parsing build nlp model use techniques like bag words bow word embeddings bow represents text vector word frequencies word embeddings capture semantic relationships words feel free ask questions nlp spacy related topics\n"
     ]
    }
   ],
   "source": [
    "# Test the model\n",
    "question = \"What is spaCy?\"\n",
    "print(f\"Question: {question}\")\n",
    "print(\"Answer:\", answer_question(question))\n",
    "\n",
    "question = \"Tell me about NLP tasks.\"\n",
    "print(f\"\\nQuestion: {question}\")\n",
    "print(\"Answer:\", answer_question(question))"
   ]
  }
 ],
 "metadata": {
  "kernelspec": {
   "display_name": "Python 3",
   "language": "python",
   "name": "python3"
  },
  "language_info": {
   "codemirror_mode": {
    "name": "ipython",
    "version": 3
   },
   "file_extension": ".py",
   "mimetype": "text/x-python",
   "name": "python",
   "nbconvert_exporter": "python",
   "pygments_lexer": "ipython3",
   "version": "3.12.1"
  }
 },
 "nbformat": 4,
 "nbformat_minor": 2
}
